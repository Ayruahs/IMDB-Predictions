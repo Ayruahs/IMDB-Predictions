{
 "cells": [
  {
   "cell_type": "code",
   "execution_count": null,
   "metadata": {
    "collapsed": true
   },
   "outputs": [],
   "source": [
    "import pandas as pd\n",
    "import numpy as np\n",
    "import matplotlib.pyplot as plt\n",
    "from sklearn.preprocessing import StandardScaler\n",
    "\n",
    "# Loading data\n",
    "filename = \"movie_metadata.csv\"\n",
    "db = pd.read_csv(filename)\n",
    "\n",
    "# Filtering dataset to find numerical data\n",
    "numericalList = []\n",
    "for colname in db:\n",
    "    if (type(db[colname][0]) != str):\n",
    "        numericalList.append(colname)\n",
    " \n",
    "numDataset = pd.DataFrame()\n",
    "for numColName in numericalList:\n",
    "    if numColName == 'imdb_score':\n",
    "        continue\n",
    "    else:\n",
    "        numDataset[numColName] = db[numColName]\n",
    "numDataset['imdb_score'] = db['imdb_score']\n",
    "    \n",
    "numDataset = numDataset.fillna(value=0, axis=1)\n",
    "    \n",
    "array = numDataset.values"
   ]
  }
 ],
 "metadata": {
  "kernelspec": {
   "display_name": "Python 3",
   "language": "python",
   "name": "python3"
  },
  "language_info": {
   "codemirror_mode": {
    "name": "ipython",
    "version": 3
   },
   "file_extension": ".py",
   "mimetype": "text/x-python",
   "name": "python",
   "nbconvert_exporter": "python",
   "pygments_lexer": "ipython3",
   "version": "3.6.1"
  }
 },
 "nbformat": 4,
 "nbformat_minor": 2
}
